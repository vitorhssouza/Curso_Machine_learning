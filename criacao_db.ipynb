{
 "cells": [
  {
   "cell_type": "code",
   "execution_count": 1,
   "metadata": {},
   "outputs": [],
   "source": [
    "# Lib para banco de dados\n",
    "import sqlite3 "
   ]
  },
  {
   "cell_type": "code",
   "execution_count": 2,
   "metadata": {},
   "outputs": [],
   "source": [
    "db = sqlite3.Connection('Banco_dados_API.db')"
   ]
  },
  {
   "cell_type": "code",
   "execution_count": 3,
   "metadata": {},
   "outputs": [],
   "source": [
    "# Apontando para o banco de dados\n",
    "cursor = db.cursor()"
   ]
  },
  {
   "cell_type": "code",
   "execution_count": 10,
   "metadata": {},
   "outputs": [],
   "source": [
    "# Criando uma tabela \n",
    "\n",
    "query_criar_banco = '''\n",
    "\n",
    "CREATE TABLE Log_API(\n",
    "    id INTEGER PRIMARY KEY AUTOINCREMENT NOT NULL,\n",
    "    inputs TEXT,\n",
    "    inicio TEXT,\n",
    "    fim TEXT,\n",
    "    processamento TEXT\n",
    "\n",
    ")'''\n",
    "\n",
    "cursor.execute(query_criar_banco)\n"
   ]
  },
  {
   "cell_type": "code",
   "execution_count": 8,
   "metadata": {},
   "outputs": [],
   "source": [
    "query_inserir = '''\n",
    "    INSERT INTO Log_API(inputs, inicio, fim, processamento)\n",
    "    VALUES('25;1;1;0;0;0;0;0;84', '07/01/2023 16:00:00', '16:00:01', '00:01')\n",
    "\n",
    "'''\n",
    "\n",
    "cursor.execute(query_inserir)\n",
    "\n",
    "\n",
    "db.commit()"
   ]
  },
  {
   "cell_type": "code",
   "execution_count": 7,
   "metadata": {},
   "outputs": [
    {
     "data": {
      "text/plain": [
       "[(1, '25;1;1;0;0;0;0;0;84', '07/01/2023 16:00:00', '16:00:01', '00:01'),\n",
       " (2, '25;1;1;0;0;0;0;0;84', '07/01/2023 16:00:00', '16:00:01', '00:01'),\n",
       " (3,\n",
       "  ';255.0;1.0;2.0;0.0;0.0;0.0;0.0;0.0;84.0;[4951.70697221]',\n",
       "  '2023-01-07 16:31:19.233407',\n",
       "  '2023-01-07 16:31:19.258342',\n",
       "  '0:00:00.024935'),\n",
       " (4,\n",
       "  ';55.0;3.0;2.0;0.0;0.0;0.0;0.0;0.0;84.0;[1586.06514593]',\n",
       "  '2023-01-07 16:32:21.451948',\n",
       "  '2023-01-07 16:32:21.471150',\n",
       "  '0:00:00.019202')]"
      ]
     },
     "execution_count": 7,
     "metadata": {},
     "output_type": "execute_result"
    }
   ],
   "source": [
    "cursor.execute('select * from Log_API').fetchall()"
   ]
  }
 ],
 "metadata": {
  "kernelspec": {
   "display_name": "Python 3",
   "language": "python",
   "name": "python3"
  },
  "language_info": {
   "codemirror_mode": {
    "name": "ipython",
    "version": 3
   },
   "file_extension": ".py",
   "mimetype": "text/x-python",
   "name": "python",
   "nbconvert_exporter": "python",
   "pygments_lexer": "ipython3",
   "version": "3.10.5"
  },
  "orig_nbformat": 4,
  "vscode": {
   "interpreter": {
    "hash": "76d7c06053c3456e5600312cec90888656fc0ed30c03d8425b9dac6e4fc8e014"
   }
  }
 },
 "nbformat": 4,
 "nbformat_minor": 2
}
